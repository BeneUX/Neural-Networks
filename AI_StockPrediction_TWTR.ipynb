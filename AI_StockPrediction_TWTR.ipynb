{
 "cells": [
  {
   "cell_type": "markdown",
   "metadata": {},
   "source": [
    "# Machine Learning (LSTM Network) mit Python und historischen Aktienkursen der Yahoo Finance API als .csv Datei"
   ]
  },
  {
   "cell_type": "code",
   "execution_count": 82,
   "metadata": {},
   "outputs": [],
   "source": [
    "import numpy as np\n",
    "import matplotlib.pyplot as plt\n",
    "import pandas as pd"
   ]
  },
  {
   "cell_type": "code",
   "execution_count": 83,
   "metadata": {},
   "outputs": [
    {
     "data": {
      "text/html": [
       "<div>\n",
       "<style scoped>\n",
       "    .dataframe tbody tr th:only-of-type {\n",
       "        vertical-align: middle;\n",
       "    }\n",
       "\n",
       "    .dataframe tbody tr th {\n",
       "        vertical-align: top;\n",
       "    }\n",
       "\n",
       "    .dataframe thead th {\n",
       "        text-align: right;\n",
       "    }\n",
       "</style>\n",
       "<table border=\"1\" class=\"dataframe\">\n",
       "  <thead>\n",
       "    <tr style=\"text-align: right;\">\n",
       "      <th></th>\n",
       "      <th>Date</th>\n",
       "      <th>Open</th>\n",
       "      <th>High</th>\n",
       "      <th>Low</th>\n",
       "      <th>Close</th>\n",
       "      <th>Adj Close</th>\n",
       "      <th>Volume</th>\n",
       "    </tr>\n",
       "  </thead>\n",
       "  <tbody>\n",
       "    <tr>\n",
       "      <th>2168</th>\n",
       "      <td>2022-06-21</td>\n",
       "      <td>38.189999</td>\n",
       "      <td>39.080002</td>\n",
       "      <td>37.660000</td>\n",
       "      <td>38.910000</td>\n",
       "      <td>38.910000</td>\n",
       "      <td>16902200</td>\n",
       "    </tr>\n",
       "    <tr>\n",
       "      <th>2169</th>\n",
       "      <td>2022-06-22</td>\n",
       "      <td>38.570000</td>\n",
       "      <td>39.340000</td>\n",
       "      <td>38.410000</td>\n",
       "      <td>38.529999</td>\n",
       "      <td>38.529999</td>\n",
       "      <td>10823800</td>\n",
       "    </tr>\n",
       "    <tr>\n",
       "      <th>2170</th>\n",
       "      <td>2022-06-23</td>\n",
       "      <td>38.759998</td>\n",
       "      <td>39.080002</td>\n",
       "      <td>38.250000</td>\n",
       "      <td>38.680000</td>\n",
       "      <td>38.680000</td>\n",
       "      <td>6327600</td>\n",
       "    </tr>\n",
       "    <tr>\n",
       "      <th>2171</th>\n",
       "      <td>2022-06-24</td>\n",
       "      <td>39.009998</td>\n",
       "      <td>39.919998</td>\n",
       "      <td>38.869999</td>\n",
       "      <td>39.410000</td>\n",
       "      <td>39.410000</td>\n",
       "      <td>18084800</td>\n",
       "    </tr>\n",
       "    <tr>\n",
       "      <th>2172</th>\n",
       "      <td>2022-06-27</td>\n",
       "      <td>39.669998</td>\n",
       "      <td>39.880001</td>\n",
       "      <td>38.900002</td>\n",
       "      <td>39.189999</td>\n",
       "      <td>39.189999</td>\n",
       "      <td>7140600</td>\n",
       "    </tr>\n",
       "  </tbody>\n",
       "</table>\n",
       "</div>"
      ],
      "text/plain": [
       "            Date       Open       High        Low      Close  Adj Close  \\\n",
       "2168  2022-06-21  38.189999  39.080002  37.660000  38.910000  38.910000   \n",
       "2169  2022-06-22  38.570000  39.340000  38.410000  38.529999  38.529999   \n",
       "2170  2022-06-23  38.759998  39.080002  38.250000  38.680000  38.680000   \n",
       "2171  2022-06-24  39.009998  39.919998  38.869999  39.410000  39.410000   \n",
       "2172  2022-06-27  39.669998  39.880001  38.900002  39.189999  39.189999   \n",
       "\n",
       "        Volume  \n",
       "2168  16902200  \n",
       "2169  10823800  \n",
       "2170   6327600  \n",
       "2171  18084800  \n",
       "2172   7140600  "
      ]
     },
     "execution_count": 83,
     "metadata": {},
     "output_type": "execute_result"
    }
   ],
   "source": [
    "# Einlesen der historischen Daten mithilfe einer .csv Datei\n",
    "# Erstellen des Dataframes (df) und transformieren der Daten\n",
    "df = pd.read_csv('statics/TWTR.csv')\n",
    "df.tail()"
   ]
  },
  {
   "cell_type": "code",
   "execution_count": 84,
   "metadata": {},
   "outputs": [],
   "source": [
    "# Trainingsdatensatz auf 80% der Daten festlegen\n",
    "train_size = int(len(df) * 0.8)\n",
    "# Aufsplitten der Dataframes auf Trainings und Testdaten\n",
    "df_train, df_test = df[:train_size], df[train_size:len(df)]\n",
    "# Spalten 'Open' und 'High' sollen betrachtet werden, daher 1 und 2 Spalte als values auswählen\n",
    "train_data = df_train.iloc[:, 1:2].values"
   ]
  },
  {
   "cell_type": "code",
   "execution_count": 85,
   "metadata": {},
   "outputs": [],
   "source": [
    "# Machine Learning Funktion MinMax skaliert alle Daten zwischen dem eingestellten Intervall, hier von 0 bis 1\n",
    "from sklearn.preprocessing import MinMaxScaler\n",
    "scaler = MinMaxScaler(feature_range=(0, 1))\n",
    "train_data_scaled = scaler.fit_transform(train_data)"
   ]
  },
  {
   "cell_type": "code",
   "execution_count": 86,
   "metadata": {},
   "outputs": [],
   "source": [
    "x_train = []\n",
    "y_train = []\n",
    "\n",
    "# Time Window legt fest welcher Beobachtungszeitraum für die Vorhersage benutzt werden soll\n",
    "time_window = 60\n",
    "\n",
    "for i in range(time_window, len(train_data_scaled)):\n",
    "  x_train.append(train_data_scaled[i-time_window:i, 0])\n",
    "  y_train.append(train_data_scaled[i, 0])\n",
    "\n",
    "# Umwandeln in numpy arrays\n",
    "x_train, y_train = np.array(x_train), np.array(y_train)\n",
    "\n",
    "# Transformieren des 2-dimensionalem Arrays in ein 3-dimensionales, für die Nutzung im neuronalem Netzwerk\n",
    "x_train = np.reshape(x_train, (x_train.shape[0], x_train.shape[1], 1))"
   ]
  },
  {
   "cell_type": "code",
   "execution_count": 87,
   "metadata": {},
   "outputs": [
    {
     "name": "stdout",
     "output_type": "stream",
     "text": [
      "Epoch 1/25\n",
      "53/53 [==============================] - 7s 50ms/step - loss: 0.0118\n",
      "Epoch 2/25\n",
      "53/53 [==============================] - 3s 47ms/step - loss: 0.0040\n",
      "Epoch 3/25\n",
      "53/53 [==============================] - 2s 46ms/step - loss: 0.0032\n",
      "Epoch 4/25\n",
      "53/53 [==============================] - 2s 46ms/step - loss: 0.0033\n",
      "Epoch 5/25\n",
      "53/53 [==============================] - 2s 47ms/step - loss: 0.0028\n",
      "Epoch 6/25\n",
      "53/53 [==============================] - 3s 49ms/step - loss: 0.0027\n",
      "Epoch 7/25\n",
      "53/53 [==============================] - 2s 47ms/step - loss: 0.0024\n",
      "Epoch 8/25\n",
      "53/53 [==============================] - 2s 47ms/step - loss: 0.0023\n",
      "Epoch 9/25\n",
      "53/53 [==============================] - 2s 46ms/step - loss: 0.0022\n",
      "Epoch 10/25\n",
      "53/53 [==============================] - 2s 47ms/step - loss: 0.0024\n",
      "Epoch 11/25\n",
      "53/53 [==============================] - 2s 47ms/step - loss: 0.0021\n",
      "Epoch 12/25\n",
      "53/53 [==============================] - 2s 47ms/step - loss: 0.0020\n",
      "Epoch 13/25\n",
      "53/53 [==============================] - 2s 46ms/step - loss: 0.0019\n",
      "Epoch 14/25\n",
      "53/53 [==============================] - 2s 47ms/step - loss: 0.0021\n",
      "Epoch 15/25\n",
      "53/53 [==============================] - 2s 47ms/step - loss: 0.0018\n",
      "Epoch 16/25\n",
      "53/53 [==============================] - 2s 47ms/step - loss: 0.0017\n",
      "Epoch 17/25\n",
      "53/53 [==============================] - 2s 46ms/step - loss: 0.0016\n",
      "Epoch 18/25\n",
      "53/53 [==============================] - 2s 46ms/step - loss: 0.0018\n",
      "Epoch 19/25\n",
      "53/53 [==============================] - 2s 47ms/step - loss: 0.0016\n",
      "Epoch 20/25\n",
      "53/53 [==============================] - 2s 46ms/step - loss: 0.0015\n",
      "Epoch 21/25\n",
      "53/53 [==============================] - 3s 48ms/step - loss: 0.0016\n",
      "Epoch 22/25\n",
      "53/53 [==============================] - 3s 48ms/step - loss: 0.0015\n",
      "Epoch 23/25\n",
      "53/53 [==============================] - 3s 49ms/step - loss: 0.0015\n",
      "Epoch 24/25\n",
      "53/53 [==============================] - 3s 47ms/step - loss: 0.0014\n",
      "Epoch 25/25\n",
      "53/53 [==============================] - 2s 47ms/step - loss: 0.0015\n"
     ]
    },
    {
     "data": {
      "text/plain": [
       "<keras.callbacks.History at 0x141db241f40>"
      ]
     },
     "execution_count": 87,
     "metadata": {},
     "output_type": "execute_result"
    }
   ],
   "source": [
    "# Erstellen des LSTM Networks\n",
    "from tensorflow.keras.models import Sequential\n",
    "from tensorflow.keras.layers import Dense, LSTM, Dropout\n",
    "\n",
    "# Aufbau: 3 LSTM Layer, 1 Dense Layer, dazwischen Dropouts um Overfitting zu vermeiden\n",
    "\n",
    "model = Sequential()\n",
    "# 1. Schicht, return_sequences besagt das Informationen behalten und nicht nur wie bei Feed Forward weiter gegeben werden \n",
    "model.add(LSTM(units=50, return_sequences=True, input_shape=(x_train.shape[1], 1)))\n",
    "# Dropout(0.2) deaktiviert zufällig Neuronen mit einer Rate von 0.2\n",
    "model.add(Dropout(0.2))\n",
    "model.add(LSTM(units=50, return_sequences=True))\n",
    "model.add(Dropout(0.2))\n",
    "model.add(LSTM(units=50))\n",
    "model.add(Dropout(0.2))\n",
    "# Dense Layer stellt Output Layer dar\n",
    "model.add(Dense(units=1))\n",
    "\n",
    "model.compile(optimizer='adam', loss='mean_squared_error')\n",
    "\n",
    "\n",
    "model.fit(x_train, y_train, epochs=25, batch_size=32)"
   ]
  },
  {
   "cell_type": "code",
   "execution_count": 88,
   "metadata": {},
   "outputs": [],
   "source": [
    "# Testen des neuronalen Netzes mit den Testdaten\n",
    "actual_stock_price = df_test.iloc[:, 1:2].values\n",
    "\n",
    "# Beide 'Open' Spalten zusammenfügen\n",
    "total_data = pd.concat((df_train['Open'], df_test['Open']), axis=0)\n",
    "test_data = total_data[len(total_data)-len(df_test)-time_window:].values\n",
    "test_data = test_data.reshape(-1, 1)\n",
    "test_data = scaler.transform(test_data)"
   ]
  },
  {
   "cell_type": "code",
   "execution_count": 89,
   "metadata": {},
   "outputs": [],
   "source": [
    "total_dates = pd.concat((df_train['Date'], df_test['Date']), axis=0)\n",
    "test_dates = total_dates[len(total_dates)-len(df_test)-time_window:].values\n",
    "test_dates = test_dates.reshape(-1, 1)"
   ]
  },
  {
   "cell_type": "code",
   "execution_count": 90,
   "metadata": {},
   "outputs": [],
   "source": [
    "# \n",
    "x_test = []\n",
    "for i in range(time_window, len(test_data)):\n",
    "  x_test.append(test_data[i-time_window:i, 0])\n",
    "\n",
    "x_test = np.array(x_test)\n",
    "x_test = np.reshape(x_test, (x_test.shape[0], x_test.shape[1], 1))"
   ]
  },
  {
   "cell_type": "code",
   "execution_count": 91,
   "metadata": {},
   "outputs": [
    {
     "name": "stdout",
     "output_type": "stream",
     "text": [
      "14/14 [==============================] - 1s 17ms/step\n"
     ]
    }
   ],
   "source": [
    "predicted_stock_price = model.predict(x_test)\n",
    "# Daten zurück skalieren um MinMax zu eliminieren\n",
    "predicted_stock_price = scaler.inverse_transform(predicted_stock_price)"
   ]
  },
  {
   "cell_type": "code",
   "execution_count": 92,
   "metadata": {},
   "outputs": [
    {
     "data": {
      "image/png": "[encoded data removed]",
      "text/plain": [
       "<Figure size 432x288 with 1 Axes>"
      ]
     },
     "metadata": {
      "needs_background": "light"
     },
     "output_type": "display_data"
    }
   ],
   "source": [
    "import datetime as dt\n",
    "\n",
    "plt_test_dates = [dt.datetime.strptime(d, '%Y-%m-%d') for d in test_dates[time_window:, 0]]\n",
    "plt.plot(plt_test_dates, actual_stock_price[:, 0], color='black', label='Actual TWTR Price')\n",
    "plt.plot(plt_test_dates, predicted_stock_price[:, 0], color='green', label='Predicted TWTR Price')\n",
    "plt.xticks(rotation=90)\n",
    "plt.title('TWTR Aktienpreis')\n",
    "plt.xlabel('Zeit')\n",
    "plt.ylabel('TWTR Aktienkurs')\n",
    "plt.legend()\n",
    "plt.show()"
   ]
  },
  {
   "cell_type": "code",
   "execution_count": 94,
   "metadata": {},
   "outputs": [
    {
     "name": "stdout",
     "output_type": "stream",
     "text": [
      "1/1 [==============================] - 0s 19ms/step\n",
      "Prediction: [[37.96944]]\n"
     ]
    }
   ],
   "source": [
    "real_data = [test_data[len(test_data)+1-time_window:len(test_data+1), 0]]\n",
    "real_data = np.array(real_data)\n",
    "real_data = np.reshape(real_data, (real_data.shape[0], real_data.shape[1], 1))\n",
    "\n",
    "prediction = model.predict(real_data)\n",
    "prediction = scaler.inverse_transform(prediction)\n",
    "print(f'Prediction: {prediction}')"
   ]
  }
 ],
 "metadata": {
  "kernelspec": {
   "display_name": "Python 3.9.5 ('venv': venv)",
   "language": "python",
   "name": "python3"
  },
  "language_info": {
   "codemirror_mode": {
    "name": "ipython",
    "version": 3
   },
   "file_extension": ".py",
   "mimetype": "text/x-python",
   "name": "python",
   "nbconvert_exporter": "python",
   "pygments_lexer": "ipython3",
   "version": "3.9.5"
  },
  "orig_nbformat": 4,
  "vscode": {
   "interpreter": {
    "hash": "93a0285853fc41b8f937ea16d41622d5a0c2c20e7c10406bbc8652471beb9e8d"
   }
  }
 },
 "nbformat": 4,
 "nbformat_minor": 2
}
