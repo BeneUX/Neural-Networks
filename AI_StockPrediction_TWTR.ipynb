{
 "cells": [
  {
   "cell_type": "markdown",
   "metadata": {},
   "source": [
    "# Machine Learning (LSTM Network) mit Python und historischen Aktienkursen der Yahoo Finance API als .csv Datei"
   ]
  },
  {
   "cell_type": "code",
   "execution_count": 36,
   "metadata": {},
   "outputs": [],
   "source": [
    "import numpy as np\n",
    "import matplotlib.pyplot as plt\n",
    "import pandas as pd"
   ]
  },
  {
   "cell_type": "code",
   "execution_count": 37,
   "metadata": {},
   "outputs": [
    {
     "data": {
      "text/html": [
       "<div>\n",
       "<style scoped>\n",
       "    .dataframe tbody tr th:only-of-type {\n",
       "        vertical-align: middle;\n",
       "    }\n",
       "\n",
       "    .dataframe tbody tr th {\n",
       "        vertical-align: top;\n",
       "    }\n",
       "\n",
       "    .dataframe thead th {\n",
       "        text-align: right;\n",
       "    }\n",
       "</style>\n",
       "<table border=\"1\" class=\"dataframe\">\n",
       "  <thead>\n",
       "    <tr style=\"text-align: right;\">\n",
       "      <th></th>\n",
       "      <th>Date</th>\n",
       "      <th>Open</th>\n",
       "      <th>High</th>\n",
       "      <th>Low</th>\n",
       "      <th>Close</th>\n",
       "      <th>Adj Close</th>\n",
       "      <th>Volume</th>\n",
       "    </tr>\n",
       "  </thead>\n",
       "  <tbody>\n",
       "    <tr>\n",
       "      <th>247</th>\n",
       "      <td>2022-06-21</td>\n",
       "      <td>38.189999</td>\n",
       "      <td>39.080002</td>\n",
       "      <td>37.660000</td>\n",
       "      <td>38.910000</td>\n",
       "      <td>38.910000</td>\n",
       "      <td>16902200</td>\n",
       "    </tr>\n",
       "    <tr>\n",
       "      <th>248</th>\n",
       "      <td>2022-06-22</td>\n",
       "      <td>38.570000</td>\n",
       "      <td>39.340000</td>\n",
       "      <td>38.410000</td>\n",
       "      <td>38.529999</td>\n",
       "      <td>38.529999</td>\n",
       "      <td>10823800</td>\n",
       "    </tr>\n",
       "    <tr>\n",
       "      <th>249</th>\n",
       "      <td>2022-06-23</td>\n",
       "      <td>38.759998</td>\n",
       "      <td>39.080002</td>\n",
       "      <td>38.250000</td>\n",
       "      <td>38.680000</td>\n",
       "      <td>38.680000</td>\n",
       "      <td>6327600</td>\n",
       "    </tr>\n",
       "    <tr>\n",
       "      <th>250</th>\n",
       "      <td>2022-06-24</td>\n",
       "      <td>39.009998</td>\n",
       "      <td>39.919998</td>\n",
       "      <td>38.869999</td>\n",
       "      <td>39.410000</td>\n",
       "      <td>39.410000</td>\n",
       "      <td>18084800</td>\n",
       "    </tr>\n",
       "    <tr>\n",
       "      <th>251</th>\n",
       "      <td>2022-06-27</td>\n",
       "      <td>39.669998</td>\n",
       "      <td>39.880001</td>\n",
       "      <td>38.900002</td>\n",
       "      <td>39.189999</td>\n",
       "      <td>39.189999</td>\n",
       "      <td>7140600</td>\n",
       "    </tr>\n",
       "  </tbody>\n",
       "</table>\n",
       "</div>"
      ],
      "text/plain": [
       "           Date       Open       High        Low      Close  Adj Close  \\\n",
       "247  2022-06-21  38.189999  39.080002  37.660000  38.910000  38.910000   \n",
       "248  2022-06-22  38.570000  39.340000  38.410000  38.529999  38.529999   \n",
       "249  2022-06-23  38.759998  39.080002  38.250000  38.680000  38.680000   \n",
       "250  2022-06-24  39.009998  39.919998  38.869999  39.410000  39.410000   \n",
       "251  2022-06-27  39.669998  39.880001  38.900002  39.189999  39.189999   \n",
       "\n",
       "       Volume  \n",
       "247  16902200  \n",
       "248  10823800  \n",
       "249   6327600  \n",
       "250  18084800  \n",
       "251   7140600  "
      ]
     },
     "execution_count": 37,
     "metadata": {},
     "output_type": "execute_result"
    }
   ],
   "source": [
    "# Einlesen der historischen Daten mithilfe einer .csv Datei\n",
    "# Erstellen des Dataframes (df) und transformieren der Daten\n",
    "df = pd.read_csv('statics/TWTR.csv')\n",
    "df.tail()"
   ]
  },
  {
   "cell_type": "code",
   "execution_count": 38,
   "metadata": {},
   "outputs": [],
   "source": [
    "# Trainingsdatensatz auf 80% der Daten festlegen\n",
    "train_size = int(len(df) * 0.8)\n",
    "# Aufsplitten der Dataframes auf Trainings und Testdaten\n",
    "df_train, df_test = df[:train_size], df[train_size:len(df)]\n",
    "# Spalten 'Open' und 'High' sollen betrachtet werden, daher 1 und 2 Spalte als values auswählen\n",
    "train_data = df_train.iloc[:, 1:2].values"
   ]
  },
  {
   "cell_type": "code",
   "execution_count": 39,
   "metadata": {},
   "outputs": [],
   "source": [
    "# Machine Learning Funktion MinMax skaliert alle Daten zwischen dem eingestellten Intervall, hier von 0 bis 1\n",
    "from sklearn.preprocessing import MinMaxScaler\n",
    "scaler = MinMaxScaler(feature_range=(0, 1))\n",
    "train_data_scaled = scaler.fit_transform(train_data)"
   ]
  },
  {
   "cell_type": "code",
   "execution_count": 60,
   "metadata": {},
   "outputs": [],
   "source": [
    "x_train = []\n",
    "y_train = []\n",
    "\n",
    "# Time Window legt fest welcher Beobachtungszeitraum für die Vorhersage benutzt werden soll\n",
    "time_window = 60\n",
    "\n",
    "for i in range(time_window, len(train_data_scaled)):\n",
    "  x_train.append(train_data_scaled[i-time_window:i, 0])\n",
    "  y_train.append(train_data_scaled[i, 0])\n",
    "\n",
    "# Umwandeln in numpy arrays\n",
    "x_train, y_train = np.array(x_train), np.array(y_train)\n",
    "\n",
    "# Transformieren des 2-dimensionalem Arrays in ein 3-dimensionales, für die Nutzung im neuronalem Netzwerk\n",
    "x_train = np.reshape(x_train, (x_train.shape[0], x_train.shape[1], 1))"
   ]
  },
  {
   "cell_type": "code",
   "execution_count": 61,
   "metadata": {},
   "outputs": [
    {
     "name": "stdout",
     "output_type": "stream",
     "text": [
      "Epoch 1/25\n",
      "5/5 [==============================] - 4s 50ms/step - loss: 0.1176\n",
      "Epoch 2/25\n",
      "5/5 [==============================] - 0s 45ms/step - loss: 0.0351\n",
      "Epoch 3/25\n",
      "5/5 [==============================] - 0s 46ms/step - loss: 0.0269\n",
      "Epoch 4/25\n",
      "5/5 [==============================] - 0s 49ms/step - loss: 0.0217\n",
      "Epoch 5/25\n",
      "5/5 [==============================] - 0s 45ms/step - loss: 0.0169\n",
      "Epoch 6/25\n",
      "5/5 [==============================] - 0s 45ms/step - loss: 0.0164\n",
      "Epoch 7/25\n",
      "5/5 [==============================] - 0s 44ms/step - loss: 0.0175\n",
      "Epoch 8/25\n",
      "5/5 [==============================] - 0s 48ms/step - loss: 0.0111\n",
      "Epoch 9/25\n",
      "5/5 [==============================] - 0s 56ms/step - loss: 0.0122\n",
      "Epoch 10/25\n",
      "5/5 [==============================] - 0s 49ms/step - loss: 0.0142\n",
      "Epoch 11/25\n",
      "5/5 [==============================] - 0s 46ms/step - loss: 0.0105\n",
      "Epoch 12/25\n",
      "5/5 [==============================] - 0s 47ms/step - loss: 0.0146\n",
      "Epoch 13/25\n",
      "5/5 [==============================] - 0s 47ms/step - loss: 0.0131\n",
      "Epoch 14/25\n",
      "5/5 [==============================] - 0s 51ms/step - loss: 0.0119\n",
      "Epoch 15/25\n",
      "5/5 [==============================] - 0s 46ms/step - loss: 0.0122\n",
      "Epoch 16/25\n",
      "5/5 [==============================] - 0s 50ms/step - loss: 0.0090\n",
      "Epoch 17/25\n",
      "5/5 [==============================] - 0s 51ms/step - loss: 0.0117\n",
      "Epoch 18/25\n",
      "5/5 [==============================] - 0s 47ms/step - loss: 0.0105\n",
      "Epoch 19/25\n",
      "5/5 [==============================] - 0s 45ms/step - loss: 0.0094\n",
      "Epoch 20/25\n",
      "5/5 [==============================] - 0s 50ms/step - loss: 0.0107\n",
      "Epoch 21/25\n",
      "5/5 [==============================] - 0s 53ms/step - loss: 0.0106\n",
      "Epoch 22/25\n",
      "5/5 [==============================] - 0s 54ms/step - loss: 0.0091\n",
      "Epoch 23/25\n",
      "5/5 [==============================] - 0s 49ms/step - loss: 0.0105\n",
      "Epoch 24/25\n",
      "5/5 [==============================] - 0s 51ms/step - loss: 0.0105\n",
      "Epoch 25/25\n",
      "5/5 [==============================] - 0s 47ms/step - loss: 0.0112\n"
     ]
    },
    {
     "data": {
      "text/plain": [
       "<keras.callbacks.History at 0x141c99b00d0>"
      ]
     },
     "execution_count": 61,
     "metadata": {},
     "output_type": "execute_result"
    }
   ],
   "source": [
    "# Erstellen des LSTM Networks\n",
    "from tensorflow.keras.models import Sequential\n",
    "from tensorflow.keras.layers import Dense, LSTM, Dropout\n",
    "\n",
    "# Aufbau: 3 LSTM Layer, 1 Dense Layer, dazwischen Dropouts um Overfitting zu vermeiden\n",
    "\n",
    "model = Sequential()\n",
    "# 1. Schicht, return_sequences besagt das Informationen behalten und nicht nur wie bei Feed Forward weiter gegeben werden \n",
    "model.add(LSTM(units=50, return_sequences=True, input_shape=(x_train.shape[1], 1)))\n",
    "# Dropout(0.2) deaktiviert zufällig Neuronen mit einer Rate von 0.2\n",
    "model.add(Dropout(0.2))\n",
    "model.add(LSTM(units=50, return_sequences=True))\n",
    "model.add(Dropout(0.2))\n",
    "model.add(LSTM(units=50))\n",
    "model.add(Dropout(0.2))\n",
    "# Dense Layer stellt Output Layer dar\n",
    "model.add(Dense(units=1))\n",
    "\n",
    "model.compile(optimizer='adam', loss='mean_squared_error')\n",
    "\n",
    "model.fit(x_train, y_train, epochs=25, batch_size=32)"
   ]
  },
  {
   "cell_type": "code",
   "execution_count": 62,
   "metadata": {},
   "outputs": [],
   "source": [
    "actual_stock_price = df_test.iloc[:, 1:2].values\n",
    "\n",
    "total_data = pd.concat((df_train['Open'], df_test['Open']), axis=0)\n",
    "test_data = total_data[len(total_data)-len(df_test)-time_window:].values\n",
    "test_data = test_data.reshape(-1, 1)\n",
    "test_data = scaler.transform(test_data)"
   ]
  },
  {
   "cell_type": "code",
   "execution_count": 63,
   "metadata": {},
   "outputs": [],
   "source": [
    "total_dates = pd.concat((df_train['Date'], df_test['Date']), axis=0)\n",
    "test_dates = total_dates[len(total_dates)-len(df_test)-time_window:].values\n",
    "test_dates = test_dates.reshape(-1, 1)"
   ]
  },
  {
   "cell_type": "code",
   "execution_count": 64,
   "metadata": {},
   "outputs": [],
   "source": [
    "x_test = []\n",
    "for i in range(time_window, len(test_data)):\n",
    "  x_test.append(test_data[i-time_window:i, 0])\n",
    "\n",
    "x_test = np.array(x_test)\n",
    "x_test = np.reshape(x_test, (x_test.shape[0], x_test.shape[1], 1))"
   ]
  },
  {
   "cell_type": "code",
   "execution_count": 65,
   "metadata": {},
   "outputs": [
    {
     "name": "stdout",
     "output_type": "stream",
     "text": [
      "WARNING:tensorflow:5 out of the last 11 calls to <function Model.make_predict_function.<locals>.predict_function at 0x00000141C99AC940> triggered tf.function retracing. Tracing is expensive and the excessive number of tracings could be due to (1) creating @tf.function repeatedly in a loop, (2) passing tensors with different shapes, (3) passing Python objects instead of tensors. For (1), please define your @tf.function outside of the loop. For (2), @tf.function has reduce_retracing=True option that can avoid unnecessary retracing. For (3), please refer to https://www.tensorflow.org/guide/function#controlling_retracing and https://www.tensorflow.org/api_docs/python/tf/function for  more details.\n",
      "2/2 [==============================] - 1s 13ms/step\n"
     ]
    }
   ],
   "source": [
    "predicted_stock_price = model.predict(x_test)\n",
    "predicted_stock_price = scaler.inverse_transform(predicted_stock_price)"
   ]
  },
  {
   "cell_type": "code",
   "execution_count": 66,
   "metadata": {},
   "outputs": [
    {
     "data": {
      "image/png": "[encoded data removed]",
      "text/plain": [
       "<Figure size 432x288 with 1 Axes>"
      ]
     },
     "metadata": {
      "needs_background": "light"
     },
     "output_type": "display_data"
    }
   ],
   "source": [
    "import datetime as dt\n",
    "\n",
    "plt_test_dates = [dt.datetime.strptime(d, '%Y-%m-%d') for d in test_dates[time_window:, 0]]\n",
    "plt.plot(plt_test_dates, actual_stock_price[:, 0], color='black', label='Actual TWTR Price')\n",
    "plt.plot(plt_test_dates, predicted_stock_price[:, 0], color='green', label='Predicted TWTR Price')\n",
    "plt.xticks(rotation=90)\n",
    "plt.title('TWTR Share Price')\n",
    "plt.xlabel('Time')\n",
    "plt.ylabel('TWTR Share Price')\n",
    "plt.legend()\n",
    "plt.show()"
   ]
  },
  {
   "cell_type": "code",
   "execution_count": 67,
   "metadata": {},
   "outputs": [
    {
     "name": "stdout",
     "output_type": "stream",
     "text": [
      "1/1 [==============================] - 1s 824ms/step\n",
      "Prediction: [[38.661045]]\n"
     ]
    }
   ],
   "source": [
    "real_data = [test_data[len(test_data)+1-time_window:len(test_data+1), 0]]\n",
    "real_data = np.array(real_data)\n",
    "real_data = np.reshape(real_data, (real_data.shape[0], real_data.shape[1], 1))\n",
    "\n",
    "prediction = model.predict(real_data)\n",
    "prediction = scaler.inverse_transform(prediction)\n",
    "print(f'Prediction: {prediction}')"
   ]
  }
 ],
 "metadata": {
  "kernelspec": {
   "display_name": "Python 3.9.5 ('venv': venv)",
   "language": "python",
   "name": "python3"
  },
  "language_info": {
   "codemirror_mode": {
    "name": "ipython",
    "version": 3
   },
   "file_extension": ".py",
   "mimetype": "text/x-python",
   "name": "python",
   "nbconvert_exporter": "python",
   "pygments_lexer": "ipython3",
   "version": "3.9.5"
  },
  "orig_nbformat": 4,
  "vscode": {
   "interpreter": {
    "hash": "93a0285853fc41b8f937ea16d41622d5a0c2c20e7c10406bbc8652471beb9e8d"
   }
  }
 },
 "nbformat": 4,
 "nbformat_minor": 2
}
